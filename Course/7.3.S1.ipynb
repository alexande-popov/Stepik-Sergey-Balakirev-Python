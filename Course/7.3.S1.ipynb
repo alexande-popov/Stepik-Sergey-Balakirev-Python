{
 "cells": [
  {
   "cell_type": "markdown",
   "id": "da9b90f6",
   "metadata": {},
   "source": [
    "# Алгоритм Евклида для нахождения НОД\n",
    "\n",
    "greatest common divisor\n",
    "\n",
    "[Медленный алгоритм Евклида](#Медленный-алгоритм-Евклида)\n",
    "\n",
    "[Быстрый алгоритм Евклида](#Быстрый-алгоритм-Евклида)\n",
    "\n",
    "[Рекурсией](#Рекурсией)\n",
    "\n",
    "[import math.gcd](#import-math.gcd)\n",
    "\n",
    "[Поиск общих простых множителей](#Поиск-общих-простых-множителей)\n",
    "\n",
    "[Тестирование](#Тестирование)"
   ]
  },
  {
   "cell_type": "markdown",
   "id": "c0f2f50f",
   "metadata": {},
   "source": [
    "## Медленный алгоритм Евклида\n",
    "\n",
    "___\n",
    "```\n",
    "пока a != b\n",
    "         находим большее среди a и b\n",
    "         уменьшаем большее на величину меньшего\n",
    "\n",
    "выводим полученное значение величины a (или b)\n",
    "```\n",
    "___\n",
    "\n",
    "Пример:\n",
    "```\n",
    "a = 12,       b = 8\n",
    "a = 12-8 = 4, b = 8\n",
    "a = 4,        b = 8-4 = 4\n",
    "```"
   ]
  },
  {
   "cell_type": "code",
   "execution_count": 1,
   "id": "93bc77c0",
   "metadata": {},
   "outputs": [],
   "source": [
    "def get_Euclidian_GCD(a, b):\n",
    "    \"\"\"Вычисляется НОД для натуральных чисел a и b\n",
    "        по медленному алгоритму Евклида.\n",
    "    :param a: первое натуральное число\n",
    "    :param b: второе натуральное число\n",
    "    :return: НОД    \n",
    "    \"\"\"\n",
    "\n",
    "    while a != b:\n",
    "        if a > b:\n",
    "            a -= b\n",
    "        else:\n",
    "            b -= a\n",
    "            \n",
    "    return a"
   ]
  },
  {
   "cell_type": "code",
   "execution_count": 2,
   "id": "0f8f41cb",
   "metadata": {},
   "outputs": [
    {
     "name": "stdout",
     "output_type": "stream",
     "text": [
      "Help on function get_Euclidian_GCD in module __main__:\n",
      "\n",
      "get_Euclidian_GCD(a, b)\n",
      "    Вычисляется НОД для натуральных чисел a и b\n",
      "        по медленному алгоритму Евклида.\n",
      "    :param a: первое натуральное число\n",
      "    :param b: второе натуральное число\n",
      "    :return: НОД\n",
      "\n"
     ]
    }
   ],
   "source": [
    "help(get_Euclidian_GCD)"
   ]
  },
  {
   "cell_type": "code",
   "execution_count": 3,
   "id": "cd5353db",
   "metadata": {},
   "outputs": [
    {
     "data": {
      "text/plain": [
       "4"
      ]
     },
     "execution_count": 3,
     "metadata": {},
     "output_type": "execute_result"
    }
   ],
   "source": [
    "get_Euclidian_GCD(12, 8)"
   ]
  },
  {
   "cell_type": "markdown",
   "id": "a45f5996",
   "metadata": {},
   "source": [
    "## Быстрый алгоритм Евклида\n",
    "\n",
    "___\n",
    "```\n",
    "пока меньшее число больше 0\n",
    "         большему числу присваиваем остаток от деления на меньшее число\n",
    "выводим большее число\n",
    "```\n",
    "___\n",
    "\n",
    "Пример:\n",
    "```\n",
    "a = 12,       b = 8\n",
    "a = 12%8 = 4, b = 8\n",
    "a = 8,        b = 4\n",
    "a = 8%4 = 0,  b = 4\n",
    "a = 4,        b = 0\n",
    "```"
   ]
  },
  {
   "cell_type": "code",
   "execution_count": 4,
   "id": "904d81cc",
   "metadata": {},
   "outputs": [],
   "source": [
    "def get_fast_Euclidian_GCD(a, b):\n",
    "    \"\"\"Вычисляется НОД для натуральных чисел a и b\n",
    "        по быстрому алгоритму Евклида.\n",
    "    :param a: первое натуральное число\n",
    "    :param b: второе натуральное число\n",
    "    :return: НОД    \n",
    "    \"\"\"\n",
    "    \n",
    "    if a < b:\n",
    "        a, b = b, a\n",
    " \n",
    "    while b != 0:\n",
    "        a, b = b, a % b\n",
    "            \n",
    "    return a"
   ]
  },
  {
   "cell_type": "code",
   "execution_count": 5,
   "id": "0c2ab1f6",
   "metadata": {},
   "outputs": [
    {
     "data": {
      "text/plain": [
       "4"
      ]
     },
     "execution_count": 5,
     "metadata": {},
     "output_type": "execute_result"
    }
   ],
   "source": [
    "get_fast_Euclidian_GCD(12, 8)"
   ]
  },
  {
   "cell_type": "code",
   "execution_count": 6,
   "id": "d24781ff",
   "metadata": {},
   "outputs": [
    {
     "data": {
      "text/plain": [
       "6"
      ]
     },
     "execution_count": 6,
     "metadata": {},
     "output_type": "execute_result"
    }
   ],
   "source": [
    "def get_gcd(a, b):\n",
    "    # Не нужно менять местами a и b, если b < a,\n",
    "    # т.к. после первой итерации само поменяется\n",
    "    while b:\n",
    "        a, b = b, a % b\n",
    "    return a\n",
    "\n",
    "\n",
    "get_gcd(18, 24)"
   ]
  },
  {
   "cell_type": "markdown",
   "id": "132379ba",
   "metadata": {},
   "source": [
    "## Рекурсией"
   ]
  },
  {
   "cell_type": "code",
   "execution_count": 7,
   "id": "5bf4d497",
   "metadata": {
    "scrolled": true
   },
   "outputs": [
    {
     "data": {
      "text/plain": [
       "6"
      ]
     },
     "execution_count": 7,
     "metadata": {},
     "output_type": "execute_result"
    }
   ],
   "source": [
    "def get_gcd(a, b):\n",
    "    return get_gcd(b, a % b) if b else a\n",
    "\n",
    "\n",
    "get_gcd(18, 24)"
   ]
  },
  {
   "cell_type": "markdown",
   "id": "ea46084a",
   "metadata": {},
   "source": [
    "## `import math.gcd`"
   ]
  },
  {
   "cell_type": "code",
   "execution_count": 8,
   "id": "13336615",
   "metadata": {},
   "outputs": [
    {
     "data": {
      "text/plain": [
       "6"
      ]
     },
     "execution_count": 8,
     "metadata": {},
     "output_type": "execute_result"
    }
   ],
   "source": [
    "import math\n",
    "\n",
    "math.gcd(18, 24)"
   ]
  },
  {
   "cell_type": "markdown",
   "id": "7b9c5658",
   "metadata": {},
   "source": [
    "## Поиск общих простых множителей"
   ]
  },
  {
   "cell_type": "markdown",
   "id": "018df469",
   "metadata": {},
   "source": [
    "Функция поиска простых множителей."
   ]
  },
  {
   "cell_type": "code",
   "execution_count": 9,
   "id": "ab171bfb",
   "metadata": {},
   "outputs": [],
   "source": [
    "def find_primes(n):\n",
    "    \"\"\"Число разлается на простые множители\n",
    "    :params n: входное число\n",
    "    :return: список простых мнжителей\n",
    "    \"\"\"\n",
    "    N = n\n",
    "    primes = []\n",
    "    \n",
    "    while N != 1: \n",
    "        for i in range(2, int(N)+1):\n",
    "            if N % i == 0:\n",
    "                primes.append(i)\n",
    "                N /= i\n",
    "                break\n",
    "             \n",
    "    return primes      "
   ]
  },
  {
   "cell_type": "markdown",
   "id": "eb882012",
   "metadata": {},
   "source": [
    "Пример:\n",
    "```\n",
    "a = 12 = [2, 2, 3]\n",
    "b = 8  = [2, 2]\n",
    "GCD = 2 * 2\n",
    "```\n"
   ]
  },
  {
   "cell_type": "code",
   "execution_count": 10,
   "id": "4b79d22a",
   "metadata": {},
   "outputs": [
    {
     "data": {
      "text/plain": [
       "4"
      ]
     },
     "execution_count": 10,
     "metadata": {},
     "output_type": "execute_result"
    }
   ],
   "source": [
    "import math\n",
    "\n",
    "\n",
    "def get_GCD_primes(a, b):\n",
    "    \"\"\"Вычисляется НОД для натуральных чисел a и b\n",
    "        разложением чисел на простые множители.\n",
    "    :param a: первое натуральное число\n",
    "    :param b: второе натуральное число\n",
    "    :return: НОД   \n",
    "    \"\"\"\n",
    "    \n",
    "    def find_primes(n):\n",
    "        \"\"\"Число разлается на простые множители\n",
    "        :params n: входное число\n",
    "        :return: список простых мнжителей\n",
    "        \"\"\"\n",
    "        N = n\n",
    "        primes = []\n",
    "    \n",
    "        while N != 1: \n",
    "            for i in range(2, int(N)+1):\n",
    "                if N % i == 0:\n",
    "                    primes.append(i)\n",
    "                    N /= i\n",
    "                    break\n",
    "             \n",
    "        return primes      \n",
    "    \n",
    "    \n",
    "    a_primes = find_primes(a)\n",
    "    b_primes = find_primes(b)\n",
    "    \n",
    "    commons = []\n",
    "    for num in a_primes:\n",
    "        if num in b_primes:\n",
    "            commons.append(num)\n",
    "            b_primes.remove(num)\n",
    "            \n",
    "    return math.prod(commons)\n",
    "            \n",
    "get_GCD_primes(12, 8)"
   ]
  },
  {
   "cell_type": "code",
   "execution_count": 11,
   "id": "abfe7a06",
   "metadata": {},
   "outputs": [
    {
     "data": {
      "text/plain": [
       "4"
      ]
     },
     "execution_count": 11,
     "metadata": {},
     "output_type": "execute_result"
    }
   ],
   "source": [
    "def get_GCD_primes_optima(a, b):\n",
    "    \"\"\"Вычисляется НОД для натуральных чисел a и b\n",
    "        разложением чисел на простые множители \n",
    "        (оптимизировано на один цикл).\n",
    "    :param a: первое натуральное число\n",
    "    :param b: второе натуральное число\n",
    "    :return: НОД   \n",
    "    \"\"\"\n",
    "    if a < b:\n",
    "        a, b = b, a\n",
    "    \n",
    "    commons = []\n",
    "    while b != 1: \n",
    "\n",
    "        for i in range(2, int(b)+1):\n",
    "\n",
    "            if b % i == 0:\n",
    "                b /= i\n",
    "                if a % i == 0:\n",
    "                    commons.append(i)\n",
    "                    a /= i     \n",
    "                break\n",
    "            \n",
    "            if a % i == 0:\n",
    "                a /= i \n",
    "  \n",
    "    return math.prod(commons)\n",
    "            \n",
    "get_GCD_primes_optima (12, 8)"
   ]
  },
  {
   "cell_type": "markdown",
   "id": "fa0d20ed",
   "metadata": {},
   "source": [
    "## Тестирование"
   ]
  },
  {
   "cell_type": "code",
   "execution_count": 12,
   "id": "2a6d2ab3",
   "metadata": {},
   "outputs": [],
   "source": [
    "import time \n",
    "\n",
    "\n",
    "def test_GCD(func):\n",
    "    print(func.__name__)\n",
    "    # -- тест №1 -------------------------------\n",
    "    a = 28\n",
    "    b = 35\n",
    "    res = func(a, b)\n",
    "    if res == 7:\n",
    "        print(\"#test1 - ok\")\n",
    "    else:\n",
    "        print(\"#test1 - fail\")\n",
    " \n",
    "    # -- тест №2 -------------------------------\n",
    "    a = 100\n",
    "    b = 1\n",
    "    res = func(a, b)\n",
    "    if res == 1:\n",
    "        print(\"#test2 - ok\")\n",
    "    else:\n",
    "        print(\"#test2 - fail\")\n",
    " \n",
    "    # -- тест №3 -------------------------------\n",
    "    a = 2\n",
    "    b = 10000000\n",
    " \n",
    "    st = time.time()\n",
    "    res = func(a, b)\n",
    "    et = time.time()\n",
    "    dt = et - st\n",
    "    if res == 2 and dt < 1:\n",
    "        print(\"#test3 - ok\")\n",
    "    else:\n",
    "        print(\"#test3 - fail\")"
   ]
  },
  {
   "cell_type": "code",
   "execution_count": 13,
   "id": "0ee5482f",
   "metadata": {},
   "outputs": [],
   "source": [
    "func_lst = [\n",
    "    get_Euclidian_GCD, \n",
    "    get_fast_Euclidian_GCD, \n",
    "    get_GCD_primes, \n",
    "    get_GCD_primes_optima\n",
    "           ]"
   ]
  },
  {
   "cell_type": "code",
   "execution_count": 14,
   "id": "c0319331",
   "metadata": {},
   "outputs": [
    {
     "name": "stdout",
     "output_type": "stream",
     "text": [
      "get_Euclidian_GCD\n",
      "#test1 - ok\n",
      "#test2 - ok\n",
      "#test3 - ok\n",
      "get_fast_Euclidian_GCD\n",
      "#test1 - ok\n",
      "#test2 - ok\n",
      "#test3 - ok\n",
      "get_GCD_primes\n",
      "#test1 - ok\n",
      "#test2 - ok\n",
      "#test3 - ok\n",
      "get_GCD_primes_optima\n",
      "#test1 - ok\n",
      "#test2 - ok\n",
      "#test3 - ok\n"
     ]
    }
   ],
   "source": [
    "for f in func_lst:\n",
    "    test_GCD(f)"
   ]
  },
  {
   "cell_type": "code",
   "execution_count": null,
   "id": "3d071a33",
   "metadata": {},
   "outputs": [],
   "source": []
  }
 ],
 "metadata": {
  "kernelspec": {
   "display_name": "Python 3",
   "language": "python",
   "name": "python3"
  },
  "language_info": {
   "codemirror_mode": {
    "name": "ipython",
    "version": 3
   },
   "file_extension": ".py",
   "mimetype": "text/x-python",
   "name": "python",
   "nbconvert_exporter": "python",
   "pygments_lexer": "ipython3",
   "version": "3.8.11"
  }
 },
 "nbformat": 4,
 "nbformat_minor": 5
}
