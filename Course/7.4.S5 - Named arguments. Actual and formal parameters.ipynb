{
 "cells": [
  {
   "cell_type": "markdown",
   "id": "1cc96bbf",
   "metadata": {},
   "source": [
    "# 7.4 Step 5"
   ]
  },
  {
   "cell_type": "markdown",
   "id": "68ca291c",
   "metadata": {},
   "source": [
    "**Подвиг 4**. Объявите функцию, которая принимает строку на кириллице и преобразовывает ее в латиницу, используя следующий словарь для замены русских букв на соответствующее латинское написание:\n",
    "```\n",
    "t = {'ё': 'yo', 'а': 'a', 'б': 'b', 'в': 'v', 'г': 'g', 'д': 'd', 'е': 'e', 'ж': 'zh',\n",
    "     'з': 'z', 'и': 'i', 'й': 'y', 'к': 'k', 'л': 'l', 'м': 'm', 'н': 'n', 'о': 'o', 'п': 'p',\n",
    "     'р': 'r', 'с': 's', 'т': 't', 'у': 'u', 'ф': 'f', 'х': 'h', 'ц': 'c', 'ч': 'ch', 'ш': 'sh',\n",
    "     'щ': 'shch', 'ъ': '', 'ы': 'y', 'ь': '', 'э': 'e', 'ю': 'yu', 'я': 'ya'}\n",
    "```\n",
    "Функция должна возвращать преобразованную строку. Замены делать без учета регистра (исходную строку перевести в нижний регистр - малые буквы). У функции также определить формальный параметр sep с начальным значением в виде строки \"-\". Он будет определять символ для замены пробелов в строке.\n",
    "\n",
    "После объявления функции прочитайте (с помощью функции input) строку и дважды вызовите функцию (с выводом результата ее работы на экран):\n",
    "\n",
    "- первый раз только со строкой\n",
    "- второй раз со строкой и именованным аргументом sep со значением '+'.\n",
    "\n",
    "___\n",
    "Sample Input:\n",
    "```\n",
    "Лучший курс по Python!\n",
    "```\n",
    "___\n",
    "Sample Output:\n",
    "```\n",
    "luchshiy-kurs-po-python!\n",
    "luchshiy+kurs+po+python!\n",
    "```\n",
    "___"
   ]
  },
  {
   "cell_type": "code",
   "execution_count": 1,
   "id": "89f02cb1",
   "metadata": {},
   "outputs": [],
   "source": [
    "d = {'ё': 'yo', 'а': 'a', 'б': 'b', 'в': 'v', 'г': 'g', 'д': 'd', 'е': 'e', 'ж': 'zh',\n",
    "     'з': 'z', 'и': 'i', 'й': 'y', 'к': 'k', 'л': 'l', 'м': 'm', 'н': 'n', 'о': 'o', 'п': 'p',\n",
    "    'р': 'r', 'с': 's', 'т': 't', 'у': 'u', 'ф': 'f', 'х': 'h', 'ц': 'c', 'ч': 'ch', 'ш': 'sh',\n",
    "    'щ': 'shch', 'ъ': '', 'ы': 'y', 'ь': '', 'э': 'e', 'ю': 'yu', 'я': 'ya'}"
   ]
  },
  {
   "cell_type": "code",
   "execution_count": 2,
   "id": "d8e03626",
   "metadata": {},
   "outputs": [],
   "source": [
    "def convert_cyrillic_to_latin(s, d, sep='-'):\n",
    "    \n",
    "    s = s.lower().replace(' ', sep)\n",
    "    \n",
    "    converted = ''\n",
    "    for char in s:\n",
    "        \n",
    "        if char in d.keys():\n",
    "            converted += d[char]\n",
    "        else:    \n",
    "            converted += char\n",
    "        \n",
    "    return converted"
   ]
  },
  {
   "cell_type": "code",
   "execution_count": 3,
   "id": "145aa05a",
   "metadata": {},
   "outputs": [
    {
     "data": {
      "text/plain": [
       "'aleksandr-popov-popov'"
      ]
     },
     "execution_count": 3,
     "metadata": {},
     "output_type": "execute_result"
    }
   ],
   "source": [
    "convert_cyrillic_to_latin(\"Александр Попов Popov\", d)"
   ]
  },
  {
   "cell_type": "code",
   "execution_count": 4,
   "id": "f8ee0ead",
   "metadata": {},
   "outputs": [
    {
     "data": {
      "text/plain": [
       "'aleksandr_popov_popov'"
      ]
     },
     "execution_count": 4,
     "metadata": {},
     "output_type": "execute_result"
    }
   ],
   "source": [
    "convert_cyrillic_to_latin(\"Александр Попов Popov\", d, sep='_')"
   ]
  },
  {
   "cell_type": "code",
   "execution_count": null,
   "id": "4c669d0c",
   "metadata": {},
   "outputs": [],
   "source": []
  }
 ],
 "metadata": {
  "kernelspec": {
   "display_name": "Python 3",
   "language": "python",
   "name": "python3"
  },
  "language_info": {
   "codemirror_mode": {
    "name": "ipython",
    "version": 3
   },
   "file_extension": ".py",
   "mimetype": "text/x-python",
   "name": "python",
   "nbconvert_exporter": "python",
   "pygments_lexer": "ipython3",
   "version": "3.8.11"
  }
 },
 "nbformat": 4,
 "nbformat_minor": 5
}
