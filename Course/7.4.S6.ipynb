{
 "cells": [
  {
   "cell_type": "markdown",
   "id": "b3b973b6",
   "metadata": {},
   "source": [
    "# 7.4 Step 6"
   ]
  },
  {
   "cell_type": "markdown",
   "id": "e005032e",
   "metadata": {},
   "source": [
    "**Подвиг 5**. Объявите функцию, которая принимает строку и заключает ее в указанный тег. Тег определяется формальным параметров `tag` с начальным значением в виде строки \"h1\". Например, мы передаем строку \"Hello Python\" и заключаем в тег \"h1\". На выходе должны получить строку (без кавычек):\n",
    "```\n",
    "\"<h1>Hello Python</h1>\"\n",
    "```\n",
    "То есть, сначала открывается тег `<h1>`, а в конце строки - закрывается `</h1>`. И так для любых указанных тегов.\n",
    "\n",
    "После объявления функции прочитайте (с помощью функции `input`) строку и дважды вызовите функцию (с выводом результата ее работы на экран):\n",
    "\n",
    "- первый раз только со строкой\n",
    "- второй раз со строкой и именованным аргументом `tag` со значением 'div'.\n",
    "\n",
    "___\n",
    "Sample Input:\n",
    "```\n",
    "Работаем с функциями\n",
    "```\n",
    "___\n",
    "\n",
    "Sample Output:\n",
    "```\n",
    "<h1>Работаем с функциями</h1>\n",
    "<div>Работаем с функциями</div>\n",
    "```\n",
    "___"
   ]
  },
  {
   "cell_type": "code",
   "execution_count": 1,
   "id": "7db9e359",
   "metadata": {},
   "outputs": [],
   "source": [
    "def put_tag(s, tag='h1'):\n",
    "    \n",
    "    taged = f'<{tag}>{s}</{tag}>'\n",
    "    \n",
    "    return taged"
   ]
  },
  {
   "cell_type": "code",
   "execution_count": 2,
   "id": "798a0450",
   "metadata": {},
   "outputs": [
    {
     "name": "stdout",
     "output_type": "stream",
     "text": [
      "<h1>Работаем с функциями</h1>\n",
      "<div>Работаем с функциями</div>\n"
     ]
    }
   ],
   "source": [
    "input_s = 'Работаем с функциями'\n",
    "\n",
    "s_taged_h1 = put_tag(input_s)\n",
    "s_taged_div = put_tag(input_s, tag='div')\n",
    "\n",
    "print(s_taged_h1)\n",
    "print(s_taged_div)"
   ]
  },
  {
   "cell_type": "code",
   "execution_count": null,
   "id": "de033e15",
   "metadata": {},
   "outputs": [],
   "source": []
  }
 ],
 "metadata": {
  "kernelspec": {
   "display_name": "Python 3",
   "language": "python",
   "name": "python3"
  },
  "language_info": {
   "codemirror_mode": {
    "name": "ipython",
    "version": 3
   },
   "file_extension": ".py",
   "mimetype": "text/x-python",
   "name": "python",
   "nbconvert_exporter": "python",
   "pygments_lexer": "ipython3",
   "version": "3.8.11"
  }
 },
 "nbformat": 4,
 "nbformat_minor": 5
}
