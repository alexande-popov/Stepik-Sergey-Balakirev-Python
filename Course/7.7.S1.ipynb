{
 "cells": [
  {
   "cell_type": "markdown",
   "id": "43726dc0",
   "metadata": {},
   "source": [
    "# Рекурсивные функции"
   ]
  },
  {
   "cell_type": "markdown",
   "id": "b82f5c69",
   "metadata": {},
   "source": [
    "## Факториал"
   ]
  },
  {
   "cell_type": "code",
   "execution_count": 1,
   "id": "c96155ab",
   "metadata": {},
   "outputs": [
    {
     "data": {
      "text/plain": [
       "120"
      ]
     },
     "execution_count": 1,
     "metadata": {},
     "output_type": "execute_result"
    }
   ],
   "source": [
    "def factorial(n):\n",
    "    if n == 0:\n",
    "        return 1\n",
    "    else:\n",
    "        return n * factorial(n-1)\n",
    "    \n",
    "    \n",
    "factorial(5)"
   ]
  },
  {
   "cell_type": "markdown",
   "id": "671bad8f",
   "metadata": {},
   "source": [
    "## Рекурсивный обход папок и файлов"
   ]
  },
  {
   "cell_type": "code",
   "execution_count": 2,
   "id": "64ffd8b5",
   "metadata": {},
   "outputs": [
    {
     "name": "stdout",
     "output_type": "stream",
     "text": [
      " C:\n",
      "-- Python39\n",
      "     python.exe, python.ini\n",
      "-- Program Files\n",
      "---- Java\n",
      "       README.txt, Welcome.html, java.exe\n",
      "---- MATLAB\n",
      "       matlab.bat, matlab.exe, mcc.bat\n",
      "-- Windows\n",
      "---- System32\n",
      "       acledit.dll, aclui.dll, zipfldr.dll\n"
     ]
    }
   ],
   "source": [
    "F = {\n",
    "    'C:': {\n",
    "        'Python39': ['python.exe', 'python.ini'],\n",
    "        'Program Files': {\n",
    "            'Java': ['README.txt', 'Welcome.html', 'java.exe'],\n",
    "            'MATLAB': ['matlab.bat', 'matlab.exe', 'mcc.bat']\n",
    "        },\n",
    "        'Windows': {\n",
    "            'System32': ['acledit.dll', 'aclui.dll', 'zipfldr.dll']\n",
    "        }\n",
    "    }\n",
    "}\n",
    "\n",
    "\n",
    "# Для обхода этой коллекции запишем следующую рекурсивную функцию:\n",
    "def get_files(path, depth=0):\n",
    "    for f in path:\n",
    "        print(\"--\"*depth, f)\n",
    "        if type(path[f]) == dict:\n",
    "            get_files(path[f], depth+1)\n",
    "        else:\n",
    "            print(\"  \"*(depth+1), \", \".join(path[f]))\n",
    "            \n",
    "            \n",
    "get_files(F)"
   ]
  },
  {
   "cell_type": "code",
   "execution_count": null,
   "id": "40d1d967",
   "metadata": {},
   "outputs": [],
   "source": []
  },
  {
   "cell_type": "code",
   "execution_count": null,
   "id": "e8669204",
   "metadata": {},
   "outputs": [],
   "source": []
  }
 ],
 "metadata": {
  "kernelspec": {
   "display_name": "Python 3",
   "language": "python",
   "name": "python3"
  },
  "language_info": {
   "codemirror_mode": {
    "name": "ipython",
    "version": 3
   },
   "file_extension": ".py",
   "mimetype": "text/x-python",
   "name": "python",
   "nbconvert_exporter": "python",
   "pygments_lexer": "ipython3",
   "version": "3.8.11"
  }
 },
 "nbformat": 4,
 "nbformat_minor": 5
}
